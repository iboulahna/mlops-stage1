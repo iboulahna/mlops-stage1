{
 "cells": [
  {
   "cell_type": "code",
   "execution_count": 0,
   "metadata": {
    "application/vnd.databricks.v1+cell": {
     "cellMetadata": {
      "byteLimit": 2048000,
      "rowLimit": 10000
     },
     "inputWidgets": {},
     "nuid": "fcd4f966-2fe6-488f-8a9d-0ccabdbc4eaa",
     "showTitle": false,
     "tableResultSettingsMap": {},
     "title": ""
    }
   },
   "outputs": [],
   "source": [
    "%pip install pytest \n",
    "dbutils.library.restartPython()"
   ]
  },
  {
   "cell_type": "code",
   "execution_count": 0,
   "metadata": {
    "application/vnd.databricks.v1+cell": {
     "cellMetadata": {
      "byteLimit": 2048000,
      "rowLimit": 10000
     },
     "inputWidgets": {},
     "nuid": "96794e3e-be42-4e86-ac63-c893aba3d996",
     "showTitle": false,
     "tableResultSettingsMap": {},
     "title": ""
    }
   },
   "outputs": [],
   "source": [
    "# Databricks notebook source\n",
    "# MAGIC %pip install pytest\n",
    "# MAGIC dbutils.library.restartPython()\n",
    "\n",
    "# COMMAND ----------\n",
    "\n",
    "import pytest\n",
    "import sys\n",
    "\n",
    "\n",
    "def run_pytest(pytest_path):\n",
    "  # Skip writing pyc files on a readonly filesystem.\n",
    "  sys.dont_write_bytecode = True\n",
    "\n",
    "  retcode = pytest.main([pytest_path, \"-p\", \"no:cacheprovider\", \"-p\", \"no:warnings\"])\n",
    "\n",
    "  # Fail the cell execution if we have any test failures.\n",
    "  assert retcode == 0, 'The pytest invocation failed. See the log above for details.'\n",
    "\n",
    "# COMMAND ----------\n",
    "## This path change is needed to make this run with Databricks Workflows (at least when kicking off from VS Code Extension). \n",
    "## It is not needed to run with databricks-connect or if your test notebook is in the project directory.\n",
    "\n",
    "import os\n",
    "# current_dir = os.getcwd()\n",
    "# if current_dir.split('/')[-1] == 'tests':\n",
    "#   root_dir = os.path.dirname(current_dir)\n",
    "#   print(\"Root dir:\", root_dir)\n",
    "#   os.chdir(root_dir)\n",
    "#   sys.path.append(root_dir + '/src')\n",
    "\n",
    "# COMMAND ----------\n",
    "\n",
    "run_pytest(\"../tests/feature_eng\")\n",
    "\n",
    "# COMMAND ----------\n",
    "\n",
    "# run_pytest(\"tests/unit_utils\")"
   ]
  },
  {
   "cell_type": "code",
   "execution_count": 0,
   "metadata": {
    "application/vnd.databricks.v1+cell": {
     "cellMetadata": {},
     "inputWidgets": {},
     "nuid": "dd383142-ff13-4eed-b6e7-7c1f288b96dd",
     "showTitle": false,
     "tableResultSettingsMap": {},
     "title": ""
    }
   },
   "outputs": [],
   "source": []
  }
 ],
 "metadata": {
  "application/vnd.databricks.v1+notebook": {
   "computePreferences": null,
   "dashboards": [],
   "environmentMetadata": {
    "base_environment": "",
    "environment_version": "2"
   },
   "language": "python",
   "notebookMetadata": {
    "pythonIndentUnit": 4
   },
   "notebookName": "tests_notebook",
   "widgets": {}
  },
  "language_info": {
   "name": "python"
  }
 },
 "nbformat": 4,
 "nbformat_minor": 0
}
